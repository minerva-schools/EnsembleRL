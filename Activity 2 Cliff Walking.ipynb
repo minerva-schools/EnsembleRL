{
 "cells": [
  {
   "cell_type": "markdown",
   "metadata": {},
   "source": [
    "### Cliff Walking Example\n",
    "#### All code is taken from https://github.com/JaeDukSeo/reinforcement-learning-an-introduction/blob/master/chapter06/CliffWalking.py "
   ]
  },
  {
   "cell_type": "markdown",
   "metadata": {},
   "source": [
    "#### to do:\n",
    "1. Explain how the Q-learning works.\n",
    "2. How is the Q-learning method implementation different from SARSA discussed in the previous activity?\n",
    "3. Be prepared to discuss the graph, what it presents, and why."
   ]
  },
  {
   "cell_type": "code",
   "execution_count": 1,
   "metadata": {},
   "outputs": [],
   "source": [
    "from __future__ import print_function\n",
    "import numpy as np\n",
    "import matplotlib.pyplot as plt\n",
    "%matplotlib inline"
   ]
  },
  {
   "cell_type": "code",
   "execution_count": 2,
   "metadata": {},
   "outputs": [],
   "source": [
    "# world height\n",
    "WORLD_HEIGHT = 4\n",
    "\n",
    "# world width\n",
    "WORLD_WIDTH = 12\n",
    "\n",
    "# probability for exploration\n",
    "EPSILON = 0.1\n",
    "\n",
    "# step size\n",
    "ALPHA = 0.5\n",
    "\n",
    "# gamma for Q-Learning and Expected Sarsa\n",
    "GAMMA = 1\n",
    "\n",
    "# all possible actions\n",
    "ACTION_UP = 0\n",
    "ACTION_DOWN = 1\n",
    "ACTION_LEFT = 2\n",
    "ACTION_RIGHT = 3\n",
    "actions = [ACTION_UP, ACTION_DOWN, ACTION_LEFT, ACTION_RIGHT]\n",
    "\n",
    "# initial state action pair values\n",
    "stateActionValues = np.zeros((WORLD_HEIGHT, WORLD_WIDTH, 4))\n",
    "startState = [3, 0]\n",
    "goalState = [3, 11]\n",
    "\n",
    "# reward for each action in each state\n",
    "actionRewards = np.zeros((WORLD_HEIGHT, WORLD_WIDTH, 4))\n",
    "actionRewards[:, :, :] = -1.0\n",
    "actionRewards[2, 1:11, ACTION_DOWN] = -100.0\n",
    "actionRewards[3, 0, ACTION_RIGHT] = -100.0"
   ]
  },
  {
   "cell_type": "code",
   "execution_count": 3,
   "metadata": {},
   "outputs": [],
   "source": [
    "# set up destinations for each action in each state\n",
    "actionDestination = []\n",
    "for i in range(0, WORLD_HEIGHT):\n",
    "    actionDestination.append([])\n",
    "    for j in range(0, WORLD_WIDTH):\n",
    "        destinaion = dict()\n",
    "        destinaion[ACTION_UP] = [max(i - 1, 0), j]\n",
    "        destinaion[ACTION_LEFT] = [i, max(j - 1, 0)]\n",
    "        destinaion[ACTION_RIGHT] = [i, min(j + 1, WORLD_WIDTH - 1)]\n",
    "        if i == 2 and 1 <= j <= 10:\n",
    "            destinaion[ACTION_DOWN] = startState\n",
    "        else:\n",
    "            destinaion[ACTION_DOWN] = [min(i + 1, WORLD_HEIGHT - 1), j]\n",
    "        actionDestination[-1].append(destinaion)\n",
    "actionDestination[3][0][ACTION_RIGHT] = startState\n",
    "\n",
    "# choose an action based on epsilon greedy algorithm\n",
    "def chooseAction(state, stateActionValues):\n",
    "    if np.random.binomial(1, EPSILON) == 1:\n",
    "        return np.random.choice(actions)\n",
    "    else:\n",
    "        values_ = stateActionValues[state[0], state[1], :]\n",
    "        return np.random.choice([action_ for action_, value_ in enumerate(values_) if value_ == np.max(values_)])\n"
   ]
  },
  {
   "cell_type": "code",
   "execution_count": 4,
   "metadata": {},
   "outputs": [],
   "source": [
    "# an episode with Sarsa\n",
    "# @stateActionValues: values for state action pair, will be updated\n",
    "# @expected: if True, will use expected Sarsa algorithm\n",
    "# @stepSize: step size for updating\n",
    "# @return: total rewards within this episode\n",
    "def sarsa(stateActionValues, expected=False, stepSize=ALPHA):\n",
    "    currentState = startState\n",
    "    currentAction = chooseAction(currentState, stateActionValues)\n",
    "    rewards = 0.0\n",
    "    while currentState != goalState:\n",
    "        newState = actionDestination[currentState[0]][currentState[1]][currentAction]\n",
    "        newAction = chooseAction(newState, stateActionValues)\n",
    "        reward = actionRewards[currentState[0], currentState[1], currentAction]\n",
    "        rewards += reward\n",
    "        if not expected:\n",
    "            valueTarget = stateActionValues[newState[0], newState[1], newAction]\n",
    "        else:\n",
    "            # calculate the expected value of new state\n",
    "            valueTarget = 0.0\n",
    "            actionValues = stateActionValues[newState[0], newState[1], :]\n",
    "            bestActions = np.argwhere(actionValues == np.max(actionValues))\n",
    "            for action in actions:\n",
    "                if action in bestActions:\n",
    "                    valueTarget += ((1.0 - EPSILON) / len(bestActions) + EPSILON / len(actions)) * stateActionValues[newState[0], newState[1], action]\n",
    "                else:\n",
    "                    valueTarget += EPSILON / len(actions) * stateActionValues[newState[0], newState[1], action]\n",
    "        valueTarget *= GAMMA\n",
    "        # Sarsa update\n",
    "        stateActionValues[currentState[0], currentState[1], currentAction] += stepSize * (reward +\n",
    "            valueTarget - stateActionValues[currentState[0], currentState[1], currentAction])\n",
    "        currentState = newState\n",
    "        currentAction = newAction\n",
    "    return rewards"
   ]
  },
  {
   "cell_type": "code",
   "execution_count": 5,
   "metadata": {},
   "outputs": [],
   "source": [
    "# an episode with Q-Learning\n",
    "# @stateActionValues: values for state action pair, will be updated\n",
    "# @expected: if True, will use expected Sarsa algorithm\n",
    "# @stepSize: step size for updating\n",
    "# @return: total rewards within this episode\n",
    "def qLearning(stateActionValues, stepSize=ALPHA):\n",
    "    currentState = startState\n",
    "    rewards = 0.0\n",
    "    while currentState != goalState:\n",
    "        currentAction = chooseAction(currentState, stateActionValues)\n",
    "        reward = actionRewards[currentState[0], currentState[1], currentAction]\n",
    "        rewards += reward\n",
    "        newState = actionDestination[currentState[0]][currentState[1]][currentAction]\n",
    "        # Q-Learning update\n",
    "        stateActionValues[currentState[0], currentState[1], currentAction] += stepSize * (\n",
    "            reward + GAMMA * np.max(stateActionValues[newState[0], newState[1], :]) -\n",
    "            stateActionValues[currentState[0], currentState[1], currentAction])\n",
    "        currentState = newState\n",
    "    return rewards"
   ]
  },
  {
   "cell_type": "code",
   "execution_count": 6,
   "metadata": {},
   "outputs": [],
   "source": [
    "# print optimal policy\n",
    "def printOptimalPolicy(stateActionValues):\n",
    "    optimalPolicy = []\n",
    "    for i in range(0, WORLD_HEIGHT):\n",
    "        optimalPolicy.append([])\n",
    "        for j in range(0, WORLD_WIDTH):\n",
    "            if [i, j] == goalState:\n",
    "                optimalPolicy[-1].append('G')\n",
    "                continue\n",
    "            bestAction = np.argmax(stateActionValues[i, j, :])\n",
    "            if bestAction == ACTION_UP:\n",
    "                optimalPolicy[-1].append('U')\n",
    "            elif bestAction == ACTION_DOWN:\n",
    "                optimalPolicy[-1].append('D')\n",
    "            elif bestAction == ACTION_LEFT:\n",
    "                optimalPolicy[-1].append('L')\n",
    "            elif bestAction == ACTION_RIGHT:\n",
    "                optimalPolicy[-1].append('R')\n",
    "    for row in optimalPolicy:\n",
    "        print(row)"
   ]
  },
  {
   "cell_type": "code",
   "execution_count": 7,
   "metadata": {},
   "outputs": [],
   "source": [
    "# figure 6.5\n",
    "# Use 20 independent runs instead of a single run to draw the figure\n",
    "# Sarsa converges to the safe path, while Q-Learning converges to the optimal path\n",
    "def figure6_5():\n",
    "    # averaging the reward sums from 10 successive episodes\n",
    "    averageRange = 10\n",
    "\n",
    "    # episodes of each run\n",
    "    nEpisodes = 500\n",
    "\n",
    "    # perform 20 independent runs\n",
    "    runs = 20\n",
    "\n",
    "    rewardsSarsa = np.zeros(nEpisodes)\n",
    "    rewardsQLearning = np.zeros(nEpisodes)\n",
    "    for run in range(0, runs):\n",
    "        stateActionValuesSarsa = np.copy(stateActionValues)\n",
    "        stateActionValuesQLearning = np.copy(stateActionValues)\n",
    "        for i in range(0, nEpisodes):\n",
    "            # cut off the value by -100 to draw the figure more elegantly\n",
    "            rewardsSarsa[i] += max(sarsa(stateActionValuesSarsa), -100)\n",
    "            rewardsQLearning[i] += max(qLearning(stateActionValuesQLearning), -100)\n",
    "\n",
    "    # averaging over independt runs\n",
    "    rewardsSarsa /= runs\n",
    "    rewardsQLearning /= runs\n",
    "\n",
    "    # averaging over successive episodes\n",
    "    smoothedRewardsSarsa = np.copy(rewardsSarsa)\n",
    "    smoothedRewardsQLearning = np.copy(rewardsQLearning)\n",
    "    for i in range(averageRange, nEpisodes):\n",
    "        smoothedRewardsSarsa[i] = np.mean(rewardsSarsa[i - averageRange: i + 1])\n",
    "        smoothedRewardsQLearning[i] = np.mean(rewardsQLearning[i - averageRange: i + 1])\n",
    "\n",
    "    # display optimal policy\n",
    "    print('Sarsa Optimal Policy:')\n",
    "    printOptimalPolicy(stateActionValuesSarsa)\n",
    "    print('Q-Learning Optimal Policy:')\n",
    "    printOptimalPolicy(stateActionValuesQLearning)\n",
    "\n",
    "    # draw reward curves\n",
    "    plt.figure(1)\n",
    "    plt.plot(smoothedRewardsSarsa, label='Sarsa')\n",
    "    plt.plot(smoothedRewardsQLearning, label='Q-Learning')\n",
    "    plt.xlabel('Episodes')\n",
    "    plt.ylabel('Sum of rewards during episode')\n",
    "    plt.legend()\n"
   ]
  },
  {
   "cell_type": "code",
   "execution_count": 8,
   "metadata": {},
   "outputs": [
    {
     "name": "stdout",
     "output_type": "stream",
     "text": [
      "Sarsa Optimal Policy:\n",
      "['R', 'R', 'R', 'R', 'R', 'R', 'R', 'R', 'R', 'R', 'R', 'D']\n",
      "['U', 'L', 'U', 'R', 'R', 'L', 'R', 'U', 'U', 'R', 'R', 'D']\n",
      "['U', 'U', 'R', 'R', 'U', 'L', 'U', 'U', 'R', 'R', 'R', 'D']\n",
      "['U', 'U', 'U', 'U', 'U', 'U', 'U', 'U', 'U', 'U', 'U', 'G']\n",
      "Q-Learning Optimal Policy:\n",
      "['R', 'R', 'R', 'R', 'R', 'R', 'R', 'R', 'D', 'D', 'D', 'D']\n",
      "['R', 'D', 'R', 'D', 'D', 'R', 'D', 'R', 'R', 'D', 'D', 'D']\n",
      "['R', 'R', 'R', 'R', 'R', 'R', 'R', 'R', 'R', 'R', 'R', 'D']\n",
      "['U', 'U', 'U', 'U', 'U', 'U', 'U', 'U', 'U', 'U', 'U', 'G']\n"
     ]
    },
    {
     "data": {
      "image/png": "[encoded data removed]",
      "text/plain": [
       "<Figure size 432x288 with 1 Axes>"
      ]
     },
     "metadata": {
      "needs_background": "light"
     },
     "output_type": "display_data"
    }
   ],
   "source": [
    "figure6_5()\n",
    "plt.show()"
   ]
  },
  {
   "cell_type": "code",
   "execution_count": null,
   "metadata": {},
   "outputs": [],
   "source": []
  }
 ],
 "metadata": {
  "kernelspec": {
   "display_name": "Python 3",
   "language": "python",
   "name": "python3"
  },
  "language_info": {
   "codemirror_mode": {
    "name": "ipython",
    "version": 3
   },
   "file_extension": ".py",
   "mimetype": "text/x-python",
   "name": "python",
   "nbconvert_exporter": "python",
   "pygments_lexer": "ipython3",
   "version": "3.7.4"
  }
 },
 "nbformat": 4,
 "nbformat_minor": 2
}
