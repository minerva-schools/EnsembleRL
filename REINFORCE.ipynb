{
  "nbformat": 4,
  "nbformat_minor": 0,
  "metadata": {
    "colab": {
      "name": "REINFORCE.ipynb",
      "provenance": [],
      "collapsed_sections": []
    },
    "kernelspec": {
      "name": "python3",
      "display_name": "Python 3"
    },
    "accelerator": "GPU"
  },
  "cells": [
    {
      "cell_type": "markdown",
      "metadata": {
        "id": "GUazkQBS2fqi",
        "colab_type": "text"
      },
      "source": [
        "## Implementing policy gradients algorithms with keras - REINFORCE agent\n"
      ]
    },
    {
      "cell_type": "code",
      "metadata": {
        "id": "v7IZNH3rJmKP",
        "colab_type": "code",
        "outputId": "b6008e7a-d9fd-4b9f-ad3d-556233f99987",
        "colab": {
          "base_uri": "https://localhost:8080/",
          "height": 71
        }
      },
      "source": [
        "import gym\n",
        "import numpy as np\n",
        "import matplotlib.pyplot as plt\n",
        "import seaborn as sns\n",
        "\n",
        "import tensorflow as tf\n",
        "from tensorflow.python.keras.layers import Dense, Dropout\n",
        "from tensorflow.python.keras import Sequential\n",
        "from tensorflow.keras.optimizers import Adam\n",
        "from tensorflow.python.keras.models import load_model\n"
      ],
      "execution_count": 0,
      "outputs": [
        {
          "output_type": "stream",
          "text": [
            "/usr/local/lib/python3.6/dist-packages/statsmodels/tools/_testing.py:19: FutureWarning: pandas.util.testing is deprecated. Use the functions in the public API at pandas.testing instead.\n",
            "  import pandas.util.testing as tm\n"
          ],
          "name": "stderr"
        }
      ]
    },
    {
      "cell_type": "code",
      "metadata": {
        "id": "8lsjUvEGn5kV",
        "colab_type": "code",
        "colab": {}
      },
      "source": [
        "import warnings\n",
        "warnings.filterwarnings('ignore')\n",
        "tf.get_logger().setLevel('ERROR')"
      ],
      "execution_count": 0,
      "outputs": []
    },
    {
      "cell_type": "code",
      "metadata": {
        "id": "06GmoK10ABZw",
        "colab_type": "code",
        "outputId": "4f9066ed-d529-4d3e-d322-a20770cc55e5",
        "colab": {
          "base_uri": "https://localhost:8080/",
          "height": 34
        }
      },
      "source": [
        "## Config ##\n",
        "ENV=\"CartPole-v1\"\n",
        "RANDOM_SEED=1\n",
        "N_EPISODES=500\n",
        "\n",
        "# random seed (reproduciblity)\n",
        "np.random.seed(RANDOM_SEED)\n",
        "tf.random.set_seed(RANDOM_SEED)\n",
        "\n",
        "# set the env\n",
        "env=gym.make(ENV) # env to import\n",
        "env.seed(RANDOM_SEED)\n",
        "env.reset() # reset to env "
      ],
      "execution_count": 0,
      "outputs": [
        {
          "output_type": "execute_result",
          "data": {
            "text/plain": [
              "array([ 0.03073904,  0.00145001, -0.03088818, -0.03131252])"
            ]
          },
          "metadata": {
            "tags": []
          },
          "execution_count": 3
        }
      ]
    },
    {
      "cell_type": "markdown",
      "metadata": {
        "id": "ZpCchoxTZxB-",
        "colab_type": "text"
      },
      "source": [
        "Implement the REINFORCE agent class"
      ]
    },
    {
      "cell_type": "code",
      "metadata": {
        "id": "uGtqZgGiLxS9",
        "colab_type": "code",
        "colab": {}
      },
      "source": [
        "class REINFORCE:\n",
        "  def __init__(self, env, path=None):\n",
        "    self.env=env #import env\n",
        "    self.state_shape=env.observation_space.shape # the state space\n",
        "    self.action_shape=env.action_space.n # the action space\n",
        "    self.gamma=0.99 # decay rate of past observations\n",
        "    self.alpha=1e-4 # learning rate in the policy gradient\n",
        "    self.learning_rate=0.01 # learning rate in deep learning\n",
        "    \n",
        "    if not path:\n",
        "      self.model=self._create_model() #build model\n",
        "    else:\n",
        "      self.model=self.load_model(path) #import model\n",
        "\n",
        "    # record observations\n",
        "    self.states=[]\n",
        "    self.gradients=[] \n",
        "    self.rewards=[]\n",
        "    self.probs=[]\n",
        "    self.discounted_rewards=[]\n",
        "    self.total_rewards=[]\n",
        "  \n",
        "  def _create_model(self):\n",
        "    ''' builds the model using keras'''\n",
        "    model=Sequential()\n",
        "\n",
        "    # input shape is of observations\n",
        "    model.add(Dense(24, input_shape=self.state_shape, activation=\"relu\"))\n",
        "    #model.add(Dropout(0.5))\n",
        "    # introduce a relu layer \n",
        "    model.add(Dense(12, activation=\"relu\"))\n",
        "    #model.add(Dropout(0.5))    \n",
        "\n",
        "    # output shape is according to the number of action\n",
        "    # The softmax function outputs a probability distribution over the actions\n",
        "    model.add(Dense(self.action_shape, activation=\"softmax\")) \n",
        "    model.compile(loss=\"categorical_crossentropy\",\n",
        "            optimizer=Adam(lr=self.learning_rate))\n",
        "        \n",
        "    return model\n",
        "\n",
        "  def hot_encode_action(self, action):\n",
        "    '''encoding the actions into a binary list'''\n",
        "\n",
        "    action_encoded=np.zeros(self.action_shape, np.float32)\n",
        "    action_encoded[action]=1\n",
        "\n",
        "    return action_encoded\n",
        "  \n",
        "  def remember(self, state, action, action_prob, reward):\n",
        "    '''stores observations'''\n",
        "    encoded_action=self.hot_encode_action(action)\n",
        "    self.gradients.append(encoded_action-action_prob)\n",
        "    self.states.append(state)\n",
        "    self.rewards.append(reward)\n",
        "    self.probs.append(action_prob)\n",
        "\n",
        "  \n",
        "  def get_action(self, state):\n",
        "    '''samples the next action based on the policy probabilty distribution \n",
        "      of the actions'''\n",
        "\n",
        "    # transform state\n",
        "    state=state.reshape([1, state.shape[0]])\n",
        "    # get action probably\n",
        "    action_probability_distribution=self.model.predict(state).flatten()\n",
        "    # norm action probability distribution\n",
        "    action_probability_distribution/=np.sum(action_probability_distribution)\n",
        "    \n",
        "    # sample action\n",
        "    action=np.random.choice(self.action_shape,1,\n",
        "                            p=action_probability_distribution)[0]\n",
        "\n",
        "    return action, action_probability_distribution\n",
        "\n",
        "\n",
        "  def get_discounted_rewards(self, rewards): \n",
        "    '''Use gamma to calculate the total reward discounting for rewards\n",
        "    Following - \\gamma ^ t * Gt'''\n",
        "    \n",
        "    discounted_rewards=[]\n",
        "    cumulative_total_return=0\n",
        "    # iterate the rewards backwards and and calc the total return \n",
        "    for reward in rewards[::-1]:      \n",
        "      cumulative_total_return=(cumulative_total_return*self.gamma)+reward\n",
        "      discounted_rewards.insert(0, cumulative_total_return)\n",
        "\n",
        "    # normalize discounted rewards\n",
        "    mean_rewards=np.mean(discounted_rewards)\n",
        "    std_rewards=np.std(discounted_rewards)\n",
        "    norm_discounted_rewards=(discounted_rewards-\n",
        "                          mean_rewards)/(std_rewards+1e-7) # avoiding zero div\n",
        "    \n",
        "    return norm_discounted_rewards\n",
        "\n",
        "\n",
        "  def update_policy(self):\n",
        "    '''Updates the policy network using the NN model.\n",
        "    This function is used after the MC sampling is done - following\n",
        "    \\delta \\theta = \\alpha * gradient + log pi'''\n",
        "      \n",
        "    # get X\n",
        "    states=np.vstack(self.states)\n",
        "\n",
        "    # get Y\n",
        "    gradients=np.vstack(self.gradients)\n",
        "    rewards=np.vstack(self.rewards)\n",
        "    discounted_rewards=self.get_discounted_rewards(rewards)\n",
        "    gradients*=discounted_rewards\n",
        "    gradients=self.alpha*np.vstack([gradients])+self.probs\n",
        "\n",
        "    history=self.model.train_on_batch(states, gradients)\n",
        "    \n",
        "    self.states, self.probs, self.gradients, self.rewards=[], [], [], []\n",
        "\n",
        "    return history\n",
        "\n",
        "\n",
        "\n",
        "  def train(self, episodes, rollout_n=1, render_n=50):\n",
        "    '''train the model\n",
        "        episodes - number of training iterations \n",
        "        rollout_n- number of episodes between policy update\n",
        "        render_n - number of episodes between env rendering ''' \n",
        "    \n",
        "    env=self.env\n",
        "    total_rewards=np.zeros(episodes)\n",
        "\n",
        "    for episode in range(episodes):\n",
        "      # each episode is a new game env\n",
        "      state=env.reset()\n",
        "      done=False          \n",
        "      episode_reward=0 #record episode reward\n",
        "      \n",
        "      while not done:\n",
        "        # play an action and record the game state & reward per episode\n",
        "        action, prob=self.get_action(state)\n",
        "        next_state, reward, done, _=env.step(action)\n",
        "        self.remember(state, action, prob, reward)\n",
        "        state=next_state\n",
        "        episode_reward+=reward\n",
        "\n",
        "        #if episode%render_n==0: ## render env to visualize.\n",
        "          #env.render()\n",
        "        if done:\n",
        "          # update policy \n",
        "          if episode%rollout_n==0:\n",
        "            history=self.update_policy()\n",
        "\n",
        "      total_rewards[episode]=episode_reward\n",
        "      \n",
        "    self.total_rewards=total_rewards\n",
        "\n",
        "  def save_model(self):\n",
        "    '''saves the moodel // do after training'''\n",
        "    self.model.save('REINFORCE_model.h5')\n",
        "  \n",
        "  def load_model(self, path):\n",
        "    '''loads a trained model from path'''\n",
        "    return load_model(path)\n",
        "\n"
      ],
      "execution_count": 0,
      "outputs": []
    },
    {
      "cell_type": "code",
      "metadata": {
        "id": "TVHZ6LZAgsIb",
        "colab_type": "code",
        "colab": {}
      },
      "source": [
        "# Create agent and train the model\n",
        "\n",
        "agent=REINFORCE(env)\n",
        "agent.train(500, 1)\n"
      ],
      "execution_count": 0,
      "outputs": []
    },
    {
      "cell_type": "code",
      "metadata": {
        "id": "vXe0D5dkqrBi",
        "colab_type": "code",
        "outputId": "2e6d9e79-a3ca-499d-a570-c20c0593032c",
        "colab": {
          "base_uri": "https://localhost:8080/",
          "height": 295
        }
      },
      "source": [
        "plt.title('REINFORCE Reward')\n",
        "plt.xlabel('Episode')\n",
        "plt.ylabel('Average reward (Episode length)')\n",
        "plt.plot(agent.total_rewards)\n",
        "plt.show()"
      ],
      "execution_count": 0,
      "outputs": [
        {
          "output_type": "display_data",
          "data": {
            "image/png": "[encoded data removed]",
            "text/plain": [
              "<Figure size 432x288 with 1 Axes>"
            ]
          },
          "metadata": {
            "tags": []
          }
        }
      ]
    },
    {
      "cell_type": "markdown",
      "metadata": {
        "id": "nFtrKaaNx2yy",
        "colab_type": "text"
      },
      "source": [
        "Save the model"
      ]
    },
    {
      "cell_type": "code",
      "metadata": {
        "id": "yVr7tmqKxpyx",
        "colab_type": "code",
        "outputId": "dd034856-8a7a-4377-f5b9-1723996cdc62",
        "colab": {
          "base_uri": "https://localhost:8080/",
          "height": 122
        }
      },
      "source": [
        "from google.colab import drive\n",
        "drive.mount('/content/gdrive')"
      ],
      "execution_count": 0,
      "outputs": [
        {
          "output_type": "stream",
          "text": [
            "Go to this URL in a browser: https://accounts.google.com/o/oauth2/auth?client_id=947318989803-6bn6qk8qdgf4n4g3pfee6491hc0brc4i.apps.googleusercontent.com&redirect_uri=urn%3aietf%3awg%3aoauth%3a2.0%3aoob&response_type=code&scope=email%20https%3a%2f%2fwww.googleapis.com%2fauth%2fdocs.test%20https%3a%2f%2fwww.googleapis.com%2fauth%2fdrive%20https%3a%2f%2fwww.googleapis.com%2fauth%2fdrive.photos.readonly%20https%3a%2f%2fwww.googleapis.com%2fauth%2fpeopleapi.readonly\n",
            "\n",
            "Enter your authorization code:\n",
            "··········\n",
            "Mounted at /content/gdrive\n"
          ],
          "name": "stdout"
        }
      ]
    },
    {
      "cell_type": "code",
      "metadata": {
        "id": "bfpkQePstOOi",
        "colab_type": "code",
        "colab": {}
      },
      "source": [
        "PATH=F\"/content/gdrive/My Drive/\" \n",
        "agent.model.save(PATH+'REINFORCE.h5')"
      ],
      "execution_count": 0,
      "outputs": []
    }
  ]
}